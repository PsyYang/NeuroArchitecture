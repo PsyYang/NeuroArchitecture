{
 "cells": [
  {
   "metadata": {},
   "cell_type": "markdown",
   "source": "This script allows us to test if the manipulation of green plants works. The greenness of each image was calculated in compute_greenness.py.",
   "id": "c82821eb9d1f9e95"
  },
  {
   "cell_type": "code",
   "id": "initial_id",
   "metadata": {
    "collapsed": true,
    "ExecuteTime": {
     "end_time": "2025-09-23T15:40:01.321439Z",
     "start_time": "2025-09-23T15:40:01.310477Z"
    }
   },
   "source": [
    "# import the libraries\n",
    "import pandas as pd\n",
    "import numpy as np\n",
    "import seaborn as sns\n",
    "import matplotlib.pyplot as plt"
   ],
   "outputs": [],
   "execution_count": 47
  },
  {
   "metadata": {
    "ExecuteTime": {
     "end_time": "2025-09-24T07:40:04.136116Z",
     "start_time": "2025-09-24T07:40:03.073474Z"
    }
   },
   "cell_type": "code",
   "source": [
    "# load the experimental data, re-categorize it and drop the duplicates\n",
    "df_subjects = pd.read_excel(\"Data_exp1.xlsx\")\n",
    "df_subjects['Category'] = np.where(df_subjects['PredHominess'] == 'Plus', 'Plus', df_subjects['Dimension'])\n",
    "df_info = df_subjects[[\"ImageNumber\", \"Category\"]].drop_duplicates()\n",
    "# load the image information\n",
    "df_images = pd.read_csv(\"Image_info.csv\")"
   ],
   "id": "18164c4d38ae5627",
   "outputs": [],
   "execution_count": 61
  },
  {
   "metadata": {
    "ExecuteTime": {
     "end_time": "2025-09-24T07:40:06.107149Z",
     "start_time": "2025-09-24T07:40:06.089623Z"
    }
   },
   "cell_type": "code",
   "source": [
    "# quick check\n",
    "df_images.head()"
   ],
   "id": "18e9018a876948dd",
   "outputs": [
    {
     "data": {
      "text/plain": [
       "   ImageNumber ImageName  Greenness\n",
       "0            1    1.jpeg   0.000000\n",
       "1            2    2.jpeg   0.064579\n",
       "2            3    3.jpeg   0.027116\n",
       "3            4    4.jpeg   0.034674\n",
       "4            5    5.jpeg   0.004193"
      ],
      "text/html": [
       "<div>\n",
       "<style scoped>\n",
       "    .dataframe tbody tr th:only-of-type {\n",
       "        vertical-align: middle;\n",
       "    }\n",
       "\n",
       "    .dataframe tbody tr th {\n",
       "        vertical-align: top;\n",
       "    }\n",
       "\n",
       "    .dataframe thead th {\n",
       "        text-align: right;\n",
       "    }\n",
       "</style>\n",
       "<table border=\"1\" class=\"dataframe\">\n",
       "  <thead>\n",
       "    <tr style=\"text-align: right;\">\n",
       "      <th></th>\n",
       "      <th>ImageNumber</th>\n",
       "      <th>ImageName</th>\n",
       "      <th>Greenness</th>\n",
       "    </tr>\n",
       "  </thead>\n",
       "  <tbody>\n",
       "    <tr>\n",
       "      <th>0</th>\n",
       "      <td>1</td>\n",
       "      <td>1.jpeg</td>\n",
       "      <td>0.000000</td>\n",
       "    </tr>\n",
       "    <tr>\n",
       "      <th>1</th>\n",
       "      <td>2</td>\n",
       "      <td>2.jpeg</td>\n",
       "      <td>0.064579</td>\n",
       "    </tr>\n",
       "    <tr>\n",
       "      <th>2</th>\n",
       "      <td>3</td>\n",
       "      <td>3.jpeg</td>\n",
       "      <td>0.027116</td>\n",
       "    </tr>\n",
       "    <tr>\n",
       "      <th>3</th>\n",
       "      <td>4</td>\n",
       "      <td>4.jpeg</td>\n",
       "      <td>0.034674</td>\n",
       "    </tr>\n",
       "    <tr>\n",
       "      <th>4</th>\n",
       "      <td>5</td>\n",
       "      <td>5.jpeg</td>\n",
       "      <td>0.004193</td>\n",
       "    </tr>\n",
       "  </tbody>\n",
       "</table>\n",
       "</div>"
      ]
     },
     "execution_count": 62,
     "metadata": {},
     "output_type": "execute_result"
    }
   ],
   "execution_count": 62
  },
  {
   "metadata": {
    "ExecuteTime": {
     "end_time": "2025-09-24T07:40:11.059465Z",
     "start_time": "2025-09-24T07:40:11.044464Z"
    }
   },
   "cell_type": "code",
   "source": [
    "# combine the two data frames\n",
    "df_greenness = pd.merge(df_images, df_info, on=\"ImageNumber\", how=\"left\")\n",
    "df_greenness.set_index('ImageNumber', inplace=True)\n",
    "df_greenness"
   ],
   "id": "86e1cdf33fc6a87b",
   "outputs": [
    {
     "data": {
      "text/plain": [
       "            ImageName  Greenness  Category\n",
       "ImageNumber                               \n",
       "1              1.jpeg   0.000000      Plus\n",
       "2              2.jpeg   0.064579      Plus\n",
       "3              3.jpeg   0.027116      Plus\n",
       "4              4.jpeg   0.034674      Plus\n",
       "5              5.jpeg   0.004193      Plus\n",
       "...               ...        ...       ...\n",
       "156          156.jpeg   0.000014  Combined\n",
       "157          157.jpeg   0.000080  Combined\n",
       "158          158.jpeg   0.000067  Combined\n",
       "159          159.jpeg   0.000576  Combined\n",
       "160          160.jpeg   0.002167  Combined\n",
       "\n",
       "[160 rows x 3 columns]"
      ],
      "text/html": [
       "<div>\n",
       "<style scoped>\n",
       "    .dataframe tbody tr th:only-of-type {\n",
       "        vertical-align: middle;\n",
       "    }\n",
       "\n",
       "    .dataframe tbody tr th {\n",
       "        vertical-align: top;\n",
       "    }\n",
       "\n",
       "    .dataframe thead th {\n",
       "        text-align: right;\n",
       "    }\n",
       "</style>\n",
       "<table border=\"1\" class=\"dataframe\">\n",
       "  <thead>\n",
       "    <tr style=\"text-align: right;\">\n",
       "      <th></th>\n",
       "      <th>ImageName</th>\n",
       "      <th>Greenness</th>\n",
       "      <th>Category</th>\n",
       "    </tr>\n",
       "    <tr>\n",
       "      <th>ImageNumber</th>\n",
       "      <th></th>\n",
       "      <th></th>\n",
       "      <th></th>\n",
       "    </tr>\n",
       "  </thead>\n",
       "  <tbody>\n",
       "    <tr>\n",
       "      <th>1</th>\n",
       "      <td>1.jpeg</td>\n",
       "      <td>0.000000</td>\n",
       "      <td>Plus</td>\n",
       "    </tr>\n",
       "    <tr>\n",
       "      <th>2</th>\n",
       "      <td>2.jpeg</td>\n",
       "      <td>0.064579</td>\n",
       "      <td>Plus</td>\n",
       "    </tr>\n",
       "    <tr>\n",
       "      <th>3</th>\n",
       "      <td>3.jpeg</td>\n",
       "      <td>0.027116</td>\n",
       "      <td>Plus</td>\n",
       "    </tr>\n",
       "    <tr>\n",
       "      <th>4</th>\n",
       "      <td>4.jpeg</td>\n",
       "      <td>0.034674</td>\n",
       "      <td>Plus</td>\n",
       "    </tr>\n",
       "    <tr>\n",
       "      <th>5</th>\n",
       "      <td>5.jpeg</td>\n",
       "      <td>0.004193</td>\n",
       "      <td>Plus</td>\n",
       "    </tr>\n",
       "    <tr>\n",
       "      <th>...</th>\n",
       "      <td>...</td>\n",
       "      <td>...</td>\n",
       "      <td>...</td>\n",
       "    </tr>\n",
       "    <tr>\n",
       "      <th>156</th>\n",
       "      <td>156.jpeg</td>\n",
       "      <td>0.000014</td>\n",
       "      <td>Combined</td>\n",
       "    </tr>\n",
       "    <tr>\n",
       "      <th>157</th>\n",
       "      <td>157.jpeg</td>\n",
       "      <td>0.000080</td>\n",
       "      <td>Combined</td>\n",
       "    </tr>\n",
       "    <tr>\n",
       "      <th>158</th>\n",
       "      <td>158.jpeg</td>\n",
       "      <td>0.000067</td>\n",
       "      <td>Combined</td>\n",
       "    </tr>\n",
       "    <tr>\n",
       "      <th>159</th>\n",
       "      <td>159.jpeg</td>\n",
       "      <td>0.000576</td>\n",
       "      <td>Combined</td>\n",
       "    </tr>\n",
       "    <tr>\n",
       "      <th>160</th>\n",
       "      <td>160.jpeg</td>\n",
       "      <td>0.002167</td>\n",
       "      <td>Combined</td>\n",
       "    </tr>\n",
       "  </tbody>\n",
       "</table>\n",
       "<p>160 rows × 3 columns</p>\n",
       "</div>"
      ]
     },
     "execution_count": 63,
     "metadata": {},
     "output_type": "execute_result"
    }
   ],
   "execution_count": 63
  },
  {
   "metadata": {
    "ExecuteTime": {
     "end_time": "2025-09-24T07:42:17.937729Z",
     "start_time": "2025-09-24T07:42:17.915698Z"
    }
   },
   "cell_type": "code",
   "source": [
    "# Statistics\n",
    "df_greenness.groupby(\"Category\")[\"Greenness\"].describe()"
   ],
   "id": "67ce5a25befbc93d",
   "outputs": [
    {
     "data": {
      "text/plain": [
       "           count      mean       std  min       25%       50%       75%  \\\n",
       "Category                                                                  \n",
       "Biophilic   20.0  0.003288  0.005991  0.0  0.000040  0.000408  0.003036   \n",
       "Ceiling     20.0  0.012032  0.028737  0.0  0.000026  0.002986  0.012263   \n",
       "Combined    20.0  0.004351  0.017543  0.0  0.000009  0.000044  0.000307   \n",
       "Lighting    20.0  0.000735  0.001803  0.0  0.000002  0.000010  0.000216   \n",
       "Plus        80.0  0.026315  0.030291  0.0  0.001256  0.011671  0.043997   \n",
       "\n",
       "                max  \n",
       "Category             \n",
       "Biophilic  0.023622  \n",
       "Ceiling    0.128915  \n",
       "Combined   0.078753  \n",
       "Lighting   0.006344  \n",
       "Plus       0.136849  "
      ],
      "text/html": [
       "<div>\n",
       "<style scoped>\n",
       "    .dataframe tbody tr th:only-of-type {\n",
       "        vertical-align: middle;\n",
       "    }\n",
       "\n",
       "    .dataframe tbody tr th {\n",
       "        vertical-align: top;\n",
       "    }\n",
       "\n",
       "    .dataframe thead th {\n",
       "        text-align: right;\n",
       "    }\n",
       "</style>\n",
       "<table border=\"1\" class=\"dataframe\">\n",
       "  <thead>\n",
       "    <tr style=\"text-align: right;\">\n",
       "      <th></th>\n",
       "      <th>count</th>\n",
       "      <th>mean</th>\n",
       "      <th>std</th>\n",
       "      <th>min</th>\n",
       "      <th>25%</th>\n",
       "      <th>50%</th>\n",
       "      <th>75%</th>\n",
       "      <th>max</th>\n",
       "    </tr>\n",
       "    <tr>\n",
       "      <th>Category</th>\n",
       "      <th></th>\n",
       "      <th></th>\n",
       "      <th></th>\n",
       "      <th></th>\n",
       "      <th></th>\n",
       "      <th></th>\n",
       "      <th></th>\n",
       "      <th></th>\n",
       "    </tr>\n",
       "  </thead>\n",
       "  <tbody>\n",
       "    <tr>\n",
       "      <th>Biophilic</th>\n",
       "      <td>20.0</td>\n",
       "      <td>0.003288</td>\n",
       "      <td>0.005991</td>\n",
       "      <td>0.0</td>\n",
       "      <td>0.000040</td>\n",
       "      <td>0.000408</td>\n",
       "      <td>0.003036</td>\n",
       "      <td>0.023622</td>\n",
       "    </tr>\n",
       "    <tr>\n",
       "      <th>Ceiling</th>\n",
       "      <td>20.0</td>\n",
       "      <td>0.012032</td>\n",
       "      <td>0.028737</td>\n",
       "      <td>0.0</td>\n",
       "      <td>0.000026</td>\n",
       "      <td>0.002986</td>\n",
       "      <td>0.012263</td>\n",
       "      <td>0.128915</td>\n",
       "    </tr>\n",
       "    <tr>\n",
       "      <th>Combined</th>\n",
       "      <td>20.0</td>\n",
       "      <td>0.004351</td>\n",
       "      <td>0.017543</td>\n",
       "      <td>0.0</td>\n",
       "      <td>0.000009</td>\n",
       "      <td>0.000044</td>\n",
       "      <td>0.000307</td>\n",
       "      <td>0.078753</td>\n",
       "    </tr>\n",
       "    <tr>\n",
       "      <th>Lighting</th>\n",
       "      <td>20.0</td>\n",
       "      <td>0.000735</td>\n",
       "      <td>0.001803</td>\n",
       "      <td>0.0</td>\n",
       "      <td>0.000002</td>\n",
       "      <td>0.000010</td>\n",
       "      <td>0.000216</td>\n",
       "      <td>0.006344</td>\n",
       "    </tr>\n",
       "    <tr>\n",
       "      <th>Plus</th>\n",
       "      <td>80.0</td>\n",
       "      <td>0.026315</td>\n",
       "      <td>0.030291</td>\n",
       "      <td>0.0</td>\n",
       "      <td>0.001256</td>\n",
       "      <td>0.011671</td>\n",
       "      <td>0.043997</td>\n",
       "      <td>0.136849</td>\n",
       "    </tr>\n",
       "  </tbody>\n",
       "</table>\n",
       "</div>"
      ]
     },
     "execution_count": 65,
     "metadata": {},
     "output_type": "execute_result"
    }
   ],
   "execution_count": 65
  },
  {
   "metadata": {
    "ExecuteTime": {
     "end_time": "2025-09-24T07:45:29.313280Z",
     "start_time": "2025-09-24T07:45:28.642657Z"
    }
   },
   "cell_type": "code",
   "source": [
    "# Plots\n",
    "# Raw data\n",
    "plt.figure(figsize=(8,5))\n",
    "sns.boxplot(x=\"Category\", y=\"Greenness\", data=df_greenness)\n",
    "sns.stripplot(x=\"Category\", y=\"Greenness\", data=df_greenness, color=\"black\", size=3, alpha=0.5)\n",
    "plt.title(\"Greenness by Category\")\n",
    "plt.xticks(rotation=45)\n",
    "plt.show()\n",
    "\n",
    "# Log-scale y-axis to make it more clear\n",
    "plt.figure(figsize=(8,5))\n",
    "sns.boxplot(x=\"Category\", y=\"Greenness\", data=df_greenness)\n",
    "sns.stripplot(x=\"Category\", y=\"Greenness\", data=df_greenness, color=\"black\", size=3, alpha=0.5)\n",
    "plt.title(\"Greenness (log) by Category\")\n",
    "plt.xticks(rotation=45)\n",
    "plt.yscale(\"log\")\n",
    "plt.show()\n"
   ],
   "id": "334cbd2202b3b41",
   "outputs": [
    {
     "data": {
      "text/plain": [
       "<Figure size 800x500 with 1 Axes>"
      ],
      "image/png": "[encoded data removed]"
     },
     "metadata": {},
     "output_type": "display_data"
    },
    {
     "data": {
      "text/plain": [
       "<Figure size 800x500 with 1 Axes>"
      ],
      "image/png": "[encoded data removed]"
     },
     "metadata": {},
     "output_type": "display_data"
    }
   ],
   "execution_count": 68
  },
  {
   "metadata": {
    "ExecuteTime": {
     "end_time": "2025-09-24T07:47:35.572370Z",
     "start_time": "2025-09-24T07:47:33.617025Z"
    }
   },
   "cell_type": "code",
   "source": [
    "# Hypothesis testing\n",
    "import statsmodels.api as sm\n",
    "from statsmodels.formula.api import ols\n",
    "from statsmodels.stats.multicomp import pairwise_tukeyhsd\n",
    "\n",
    "# one-way ANOVA\n",
    "model = ols(\"Greenness ~ C(Category)\", data=df_greenness).fit()\n",
    "anova_table = sm.stats.anova_lm(model, typ=2)\n",
    "print(\"=== One-way ANOVA ===\")\n",
    "print(anova_table)\n",
    "\n",
    "# Post hoc (Tukey HSD)\n",
    "print(\"\\n=== Tukey HSD (post-hoc) ===\")\n",
    "tukey = pairwise_tukeyhsd(endog=df_greenness[\"Greenness\"],\n",
    "                          groups=df_greenness[\"Category\"],\n",
    "                          alpha=0.05)\n",
    "print(tukey)\n"
   ],
   "id": "c95b946287f8316c",
   "outputs": [
    {
     "name": "stdout",
     "output_type": "stream",
     "text": [
      "=== One-way ANOVA ===\n",
      "               sum_sq     df         F    PR(>F)\n",
      "C(Category)  0.019420    4.0  7.940815  0.000008\n",
      "Residual     0.094769  155.0       NaN       NaN\n",
      "\n",
      "=== Tukey HSD (post-hoc) ===\n",
      "  Multiple Comparison of Means - Tukey HSD, FWER=0.05   \n",
      "========================================================\n",
      "  group1   group2  meandiff p-adj   lower  upper  reject\n",
      "--------------------------------------------------------\n",
      "Biophilic  Ceiling   0.0087 0.7968 -0.0128 0.0303  False\n",
      "Biophilic Combined   0.0011 0.9999 -0.0205 0.0226  False\n",
      "Biophilic Lighting  -0.0026 0.9975 -0.0241  0.019  False\n",
      "Biophilic     Plus    0.023 0.0025   0.006 0.0401   True\n",
      "  Ceiling Combined  -0.0077 0.8629 -0.0293 0.0139  False\n",
      "  Ceiling Lighting  -0.0113 0.5998 -0.0329 0.0103  False\n",
      "  Ceiling     Plus   0.0143  0.147 -0.0028 0.0313  False\n",
      " Combined Lighting  -0.0036 0.9905 -0.0252  0.018  False\n",
      " Combined     Plus    0.022 0.0045  0.0049  0.039   True\n",
      " Lighting     Plus   0.0256 0.0005  0.0085 0.0426   True\n",
      "--------------------------------------------------------\n"
     ]
    }
   ],
   "execution_count": 69
  },
  {
   "metadata": {},
   "cell_type": "markdown",
   "source": "Our hypothesis is that greenness is close to biophilic. It's true that the greenness values of biophilic (remove this dimension) and combined (remove all dimensions) images are significantly lower that those of plus images and there's no difference between plus and ceiling images. However, the greenness of lighting images is also lower than that of plus images. This is exactly what we were worried about —— the removal of lighting leads to the decrease of greenness.",
   "id": "4437954407b71e24"
  }
 ],
 "metadata": {
  "kernelspec": {
   "display_name": "Python 3",
   "language": "python",
   "name": "python3"
  },
  "language_info": {
   "codemirror_mode": {
    "name": "ipython",
    "version": 2
   },
   "file_extension": ".py",
   "mimetype": "text/x-python",
   "name": "python",
   "nbconvert_exporter": "python",
   "pygments_lexer": "ipython2",
   "version": "2.7.6"
  }
 },
 "nbformat": 4,
 "nbformat_minor": 5
}
